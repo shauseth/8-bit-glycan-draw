{
 "cells": [
  {
   "cell_type": "markdown",
   "metadata": {},
   "source": [
    "<img src=\"images/logo.png\" width=320 style=\"float:left\" />"
   ]
  },
  {
   "cell_type": "code",
   "execution_count": 1,
   "metadata": {},
   "outputs": [],
   "source": [
    "from pixel_elements import *"
   ]
  },
  {
   "cell_type": "code",
   "execution_count": 2,
   "metadata": {},
   "outputs": [],
   "source": [
    "# Helpers\n",
    "\n",
    "def vert_join(elements):\n",
    "    \"\"\"Joins elements vertically in reversed order.\"\"\"\n",
    "    return np.concatenate(list(reversed(elements)), axis = 0)\n",
    "\n",
    "def horz_join(elements):\n",
    "    \"\"\"Joins elements horizontally in the same order.\"\"\"\n",
    "    return np.concatenate(elements, axis = 1)\n",
    "\n",
    "def paint(element, x, y):\n",
    "    \"\"\"Paints an element in the x, y position of the grid.\"\"\"\n",
    "    y = int(board.shape[0] / 5) - y\n",
    "    board[(y * 5) - 5: y * 5, x * 5: (x * 5) + 5, :] = element"
   ]
  },
  {
   "cell_type": "code",
   "execution_count": 3,
   "metadata": {},
   "outputs": [],
   "source": [
    "# Tools\n",
    "\n",
    "def make_board(h, w):\n",
    "    \"\"\"Makes an MxN drawing board.\"\"\"\n",
    "    blank = make_canvas()\n",
    "    board = horz_join([vert_join([blank] * h)] * w)\n",
    "    return board\n",
    "\n",
    "def paint_vert(x, y, monomer, link = 'a', occu = None):\n",
    "    \"\"\"Paints a monomer with a vertical stem at x, y.\"\"\"\n",
    "    paint(vert_stick(link, occu), x, y)\n",
    "    paint(monomer, x, y + 1)\n",
    "        \n",
    "def paint_fuc(x, y, link = 'a', occu = None):\n",
    "    \"\"\"Paints Fucose with a horizontal stem from x, y.\"\"\"\n",
    "    paint(horz_stick(link, occu), x + 1, y + 1)\n",
    "    paint(Fuc, x + 2, y + 1)\n",
    "    \n",
    "def paint_left_diag(x, y, monomer, link = 'a', occu = None):\n",
    "    \"\"\"Paints a monomer with a left diagonal stem from x, y.\"\"\"\n",
    "    paint(left_diag_stick(link, occu), x - 1, y)\n",
    "    paint(monomer, x - 2, y + 1)\n",
    "    \n",
    "def paint_right_diag(x, y, unit, link = 'a', occu = None):\n",
    "    \"\"\"Paints a monomer with a right diagonal stem from x, y.\"\"\"\n",
    "    paint(right_diag_stick(link, occu), x + 1, y)\n",
    "    paint(unit, x + 2, y + 1)"
   ]
  },
  {
   "cell_type": "code",
   "execution_count": 4,
   "metadata": {},
   "outputs": [],
   "source": [
    "# Visuals\n",
    "\n",
    "def show(board, axis = True, save = False):\n",
    "    \"\"\"Shows the drawing board.\"\"\"\n",
    "    h, w, _ = board.shape\n",
    "    plt.imshow(board)\n",
    "    plt.grid()\n",
    "    if axis:\n",
    "        plt.xticks(np.arange(0, w, 5) + 2, range(int(w / 5)))\n",
    "        plt.yticks(np.arange(0, h, 5) + 2, reversed(range(int(h / 5))))\n",
    "    else:\n",
    "        plt.axis('off')\n",
    "    plt.savefig('pixel_glycan.png', bbox_inches = 'tight') if save else plt.show()"
   ]
  },
  {
   "cell_type": "code",
   "execution_count": 5,
   "metadata": {},
   "outputs": [
    {
     "data": {
      "image/png": "[encoded data removed]",
      "text/plain": [
       "<Figure size 432x288 with 1 Axes>"
      ]
     },
     "metadata": {
      "needs_background": "light"
     },
     "output_type": "display_data"
    }
   ],
   "source": [
    "# Elements\n",
    "\n",
    "elements = horz_join([Glc, Man, Gal, GlcNAc, GalNAc, GlcA, Neu5Ac, Neu5Gc, Fuc,\n",
    "                      vert_stick(), horz_stick(), left_diag_stick(), right_diag_stick()])\n",
    "show(elements)"
   ]
  },
  {
   "cell_type": "code",
   "execution_count": 6,
   "metadata": {},
   "outputs": [
    {
     "data": {
      "image/png": "[encoded data removed]",
      "text/plain": [
       "<Figure size 432x288 with 1 Axes>"
      ]
     },
     "metadata": {
      "needs_background": "light"
     },
     "output_type": "display_data"
    }
   ],
   "source": [
    "board = make_board(12, 9) # makes a drawing board of h = 12 and w = 9\n",
    "\n",
    "c = 4 # sets x = 4 as the centre\n",
    "paint_vert(c, 0, GlcNAc) # draws GlcNAc with stem from y = 0\n",
    "paint_vert(c, 2, Gal)\n",
    "paint_fuc(c, 2) # attaches Fuc next to unit with stem from y = 2\n",
    "paint_vert(c, 4, Gal)\n",
    "        \n",
    "show(board) # shows the drawing board"
   ]
  },
  {
   "cell_type": "code",
   "execution_count": 7,
   "metadata": {},
   "outputs": [
    {
     "data": {
      "image/png": "[encoded data removed]",
      "text/plain": [
       "<Figure size 432x288 with 1 Axes>"
      ]
     },
     "metadata": {
      "needs_background": "light"
     },
     "output_type": "display_data"
    }
   ],
   "source": [
    "board = make_board(12, 9)\n",
    "\n",
    "c = 4\n",
    "paint_vert(c, 0, Man)\n",
    "paint_left_diag(c, 2, Man) # draws Man diagonally to the left from y = 2\n",
    "paint_right_diag(c, 2, Man)\n",
    "paint_vert(c - 2, 4, Man)\n",
    "paint_left_diag(c + 2, 4, Man)\n",
    "paint_vert(c + 2, 4, Man)\n",
    "paint_vert(c - 2, 6, Man)\n",
    "paint_vert(c, 6, Man)\n",
    "paint_vert(c + 2, 6, Man)\n",
    "\n",
    "show(board, save = True) # drawings can be saved"
   ]
  },
  {
   "cell_type": "code",
   "execution_count": 8,
   "metadata": {},
   "outputs": [
    {
     "data": {
      "image/png": "[encoded data removed]",
      "text/plain": [
       "<Figure size 432x288 with 1 Axes>"
      ]
     },
     "metadata": {
      "needs_background": "light"
     },
     "output_type": "display_data"
    }
   ],
   "source": [
    "board = make_board(12, 9)\n",
    "\n",
    "c = 4\n",
    "paint_vert(c, 0, Man, 'a', '3') # linkage information like (a1-3) can be added\n",
    "paint_left_diag(c, 2, Man, 'b', '4')\n",
    "paint_right_diag(c, 2, Man, 'a', '3')\n",
    "paint_vert(c - 2, 4, Man, 'b', '4')\n",
    "paint_left_diag(c + 2, 4, Man, 'a', '3')\n",
    "paint_vert(c + 2, 4, Man, 'b', '4')\n",
    "paint_vert(c - 2, 6, Man, 'a', '3')\n",
    "paint_vert(c, 6, Man, 'b', '4')\n",
    "paint_vert(c + 2, 6, Man, 'a', '3')\n",
    "\n",
    "show(board) # black is alpha, grey is beta and the red dot depicts the occupancy"
   ]
  },
  {
   "cell_type": "code",
   "execution_count": 9,
   "metadata": {},
   "outputs": [
    {
     "data": {
      "text/plain": [
       "(60, 45, 3)"
      ]
     },
     "execution_count": 9,
     "metadata": {},
     "output_type": "execute_result"
    }
   ],
   "source": [
    "board.shape # each board is a numpy array of the shape"
   ]
  },
  {
   "cell_type": "code",
   "execution_count": 10,
   "metadata": {},
   "outputs": [
    {
     "data": {
      "image/png": "[encoded data removed]",
      "text/plain": [
       "<Figure size 432x288 with 1 Axes>"
      ]
     },
     "metadata": {
      "needs_background": "light"
     },
     "output_type": "display_data"
    }
   ],
   "source": [
    "# more examples\n",
    "\n",
    "board = make_board(12, 9)\n",
    "\n",
    "c = 4\n",
    "paint_vert(c, 0, GlcNAc)\n",
    "paint_left_diag(c, 2, GlcNAc)\n",
    "paint_vert(c, 2, GlcNAc)\n",
    "paint_right_diag(c, 2, GlcNAc)\n",
    "\n",
    "show(board)"
   ]
  },
  {
   "cell_type": "code",
   "execution_count": 11,
   "metadata": {},
   "outputs": [
    {
     "data": {
      "image/png": "[encoded data removed]",
      "text/plain": [
       "<Figure size 432x288 with 1 Axes>"
      ]
     },
     "metadata": {
      "needs_background": "light"
     },
     "output_type": "display_data"
    }
   ],
   "source": [
    "board = make_board(12, 9)\n",
    "\n",
    "c = 4\n",
    "paint_vert(c, 0, GlcNAc)\n",
    "paint_vert(c, 2, Man)\n",
    "paint_left_diag(c, 4, Man)\n",
    "paint_right_diag(c, 4, Man)\n",
    "paint_vert(c - 2, 6, GlcNAc)\n",
    "paint_fuc(c - 2, 6)\n",
    "paint_vert(c + 2, 6, GlcNAc)\n",
    "paint_fuc(c + 2, 6)\n",
    "paint_vert(c - 2, 8, Gal)\n",
    "paint_vert(c + 2, 8, Gal)\n",
    "\n",
    "show(board)"
   ]
  },
  {
   "cell_type": "code",
   "execution_count": 12,
   "metadata": {},
   "outputs": [
    {
     "data": {
      "image/png": "[encoded data removed]",
      "text/plain": [
       "<Figure size 432x288 with 1 Axes>"
      ]
     },
     "metadata": {
      "needs_background": "light"
     },
     "output_type": "display_data"
    }
   ],
   "source": [
    "board = make_board(12, 9)\n",
    "\n",
    "c = 4\n",
    "paint_vert(c, 0, GlcNAc)\n",
    "paint_vert(c, 2, Man)\n",
    "paint_left_diag(c, 4, Man)\n",
    "paint_right_diag(c, 4, Man)\n",
    "paint_left_diag(c - 2, 6, GlcNAc)\n",
    "paint_vert(c - 2, 6, GlcNAc)\n",
    "paint_right_diag(c + 2, 6, GlcNAc)\n",
    "paint_vert(c + 2, 6, GlcNAc)\n",
    "paint_vert(c - 4, 8, GlcNAc)\n",
    "paint_vert(c - 2, 8, GlcNAc)\n",
    "paint_vert(c + 2, 8, GlcNAc)\n",
    "paint_vert(c + 4, 8, GlcNAc)\n",
    "paint_vert(c - 4, 10, Gal)\n",
    "paint_vert(c - 2, 10, Gal)\n",
    "paint_vert(c + 2, 10, Gal)\n",
    "paint_vert(c + 4, 10, Gal)\n",
    "\n",
    "show(board)"
   ]
  },
  {
   "cell_type": "code",
   "execution_count": null,
   "metadata": {},
   "outputs": [],
   "source": []
  }
 ],
 "metadata": {
  "kernelspec": {
   "display_name": "Python 3",
   "language": "python",
   "name": "python3"
  },
  "language_info": {
   "codemirror_mode": {
    "name": "ipython",
    "version": 3
   },
   "file_extension": ".py",
   "mimetype": "text/x-python",
   "name": "python",
   "nbconvert_exporter": "python",
   "pygments_lexer": "ipython3",
   "version": "3.7.3"
  }
 },
 "nbformat": 4,
 "nbformat_minor": 2
}
